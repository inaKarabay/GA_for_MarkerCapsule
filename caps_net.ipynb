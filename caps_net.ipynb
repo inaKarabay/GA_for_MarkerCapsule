{
  "nbformat": 4,
  "nbformat_minor": 0,
  "metadata": {
    "colab": {
      "name": "caps_net.ipynb",
      "provenance": [],
      "collapsed_sections": []
    },
    "kernelspec": {
      "name": "python3",
      "display_name": "Python 3"
    },
    "language_info": {
      "name": "python"
    }
  },
  "cells": [
    {
      "cell_type": "code",
      "metadata": {
        "id": "TP7Ks08w7jTx"
      },
      "source": [
        "import torch\n",
        "import torch.nn.functional as F\n",
        "from torch import nn\n",
        "from torch.autograd import Variable\n",
        "from torch.optim import Adam\n",
        "import torch.optim as optim\n",
        "from torchvision.datasets.mnist import MNIST\n",
        "import numpy as np\n",
        "import matplotlib.pyplot as plt\n",
        "import pandas as pd\n",
        "import random\n",
        "import csv\n",
        "from sklearn.metrics import f1_score\n",
        "from sklearn.metrics import accuracy_score\n",
        "from sklearn.metrics import confusion_matrix\n",
        "from sklearn.metrics import roc_auc_score\n",
        "from sklearn.model_selection import train_test_split\n",
        "import seaborn as sns\n",
        "from fastai import *\n",
        "import fastai\n",
        "fastai.__version__\n",
        "from fastai.tabular import * \n",
        "from fastai.callbacks import *\n",
        "from fastai.vision import *\n",
        "import pickle\n",
        "\n",
        "get_ipython().run_line_magic('matplotlib', 'inline')"
      ],
      "execution_count": null,
      "outputs": []
    },
    {
      "cell_type": "code",
      "metadata": {
        "id": "1U2HJ7iT73sT"
      },
      "source": [
        "#primary capsule layer\n",
        "class ConvCaps2D(nn.Module):\n",
        "    def __init__(self):\n",
        "        super(ConvCaps2D, self).__init__()\n",
        "        # The paper suggests having 32 8D capsules\n",
        "        #32 29x1x8 capsules\n",
        "        self.capsules = nn.ModuleList([nn.Conv2d(in_channels = 256, out_channels = 8, kernel_size=(1,4), stride=2)\n",
        "                                       for _ in range(32)])\n",
        "    #non-linearity    \n",
        "    def squash(self, tensor, dim=-1):\n",
        "        norm = (tensor**2).sum(dim=dim, keepdim = True) # norm.size() is (None, 1152, 1)\n",
        "        scale = norm / (1 + norm) # scale.size()  is (None, 1152, 1)  \n",
        "        return scale*tensor / torch.sqrt(norm)\n",
        "        \n",
        "    def forward(self, x):\n",
        "        outputs = [capsule(x).view(x.size(0), 8, -1) for capsule in self.capsules] # 32 list of (None, 1, 8, 36)\n",
        "        outputs = torch.cat(outputs, dim = 2).permute(0, 2, 1)  # outputs.size() is (None, 1152, 8)\n",
        "        return self.squash(outputs)"
      ],
      "execution_count": null,
      "outputs": []
    },
    {
      "cell_type": "code",
      "metadata": {
        "id": "ab834fdc"
      },
      "source": [
        "#type capsule layer\n",
        "class Caps1D(nn.Module):\n",
        "    def __init__(self):\n",
        "        super(Caps1D, self).__init__()\n",
        "        self.num_caps = 13\n",
        "        self.num_iterations = 3\n",
        "        self.W = nn.Parameter(torch.randn(13, 928, 8, 16))\n",
        "        \n",
        "    def softmax(self, x, dim = 1):\n",
        "        transposed_input = x.transpose(dim, len(x.size()) - 1)\n",
        "        softmaxed_output = F.softmax(transposed_input.contiguous().view(-1, transposed_input.size(-1)))\n",
        "        return softmaxed_output.view(*transposed_input.size()).transpose(dim, len(x.size()) - 1)\n",
        "\n",
        "    def squash(self, tensor, dim=-1):\n",
        "        norm = (tensor**2).sum(dim=dim, keepdim = True) # norm.size() is (None, 1152, 1)\n",
        "        scale = norm / (1 + norm)        \n",
        "        return scale*tensor / torch.sqrt(norm)\n",
        "   \n",
        "    # Routing algorithm\n",
        "    def forward(self, u):\n",
        "        # u.size() is (None, 1152, 8)\n",
        "        \n",
        "        u_ji = torch.matmul(u[:, None, :, None, :], self.W) # u_ji.size() is (None, 10, 1152, 1, 16)\n",
        "        #print(\"u_ji\",u_ji.shape)\n",
        "        b = Variable(torch.zeros(u_ji.size())) # b.size() is (None, 10, 1152, 1, 16)\n",
        "        #print(\"b\",b.shape)\n",
        "        \n",
        "        for i in range(self.num_iterations):\n",
        "            c = self.softmax(b, dim=2)\n",
        "            #print(\"c\",c.shape)\n",
        "            v = self.squash((c * u_ji).sum(dim=2, keepdim=True)) # v.size() is (None, 10, 1, 1, 16)\n",
        "            #print(\"v\",v.shape)\n",
        "            if i != self.num_iterations - 1:\n",
        "                delta_b = (u_ji * v).sum(dim=-1, keepdim=True)\n",
        "                b = b + delta_b\n",
        "        '''\n",
        "        DIMENSIONS\n",
        "        u_ji torch.Size([200, 13, 928, 1, 16])\n",
        "        b torch.Size([200, 13, 928, 1, 16])\n",
        "        c torch.Size([200, 13, 928, 1, 16])\n",
        "        v torch.Size([200, 13, 1, 1, 16])\n",
        "        '''\n",
        "        \n",
        "        # Now we simply compute the length of the vectors and take the softmax to get probability.\n",
        "        v = v.squeeze()\n",
        "        #print(\"v\",v.shape)\n",
        "        y=v.data.cpu().numpy()\n",
        "        hook1=y[:,0:13,0:16]\n",
        "        #print(\"y\", y.shape)\n",
        "        y = np.reshape(y,(len(y)*13,16))\n",
        "        #print(\"y reshaped\", y.shape)\n",
        "        with open('test_16.csv', 'w') as outfile:\n",
        "           writer=csv.writer(outfile, delimiter='\\t')\n",
        "           writer.writerows(y)\n",
        "        classes = (v ** 2).sum(dim=-1) ** 0.5\n",
        "       # print(classes.shape)\n",
        "        classes = F.softmax(classes) # This is not done in the paper, but I've done this to use CrossEntropyLoss.\n",
        "        #print(\"classes\", classes.shape)\n",
        "        hook=c.data.cpu().numpy()\n",
        "        #print(\"Hook\", hook.shape)\n",
        "        #from numpy import savetxt\n",
        "        #savetxt('test.csv', hook[0:4][0:13,0:928,-1,-1], delimiter=',')\n",
        "        #with open('test.csv', 'w', newline='') as csvfile:\n",
        "        #    writer=csv.writer(csvfile, delimiter='\\t')\n",
        "        #    writer.writerows(hook[0:4][0:13,0:928,-1,-1])\n",
        "        x=hook[:,0:13,0:928,-1,-1]\n",
        "        #print(\"x\", x.shape)\n",
        "        x = np.reshape(x,(len(x)*13,928))\n",
        "        #print(\"X reshaped\", x.shape)\n",
        "        with open('test.csv', 'w') as outfile:\n",
        "           writer=csv.writer(outfile, delimiter='\\t')\n",
        "           writer.writerows(x)\n",
        "               #np.savetxt(outfile, slice_2d)\n",
        "        '''\n",
        "        DIMENSIONS:\n",
        "        with batch size 200\n",
        "        v torch.Size([200, 13, 16])\n",
        "        y (200, 13, 16) \n",
        "        y reshaped (2600, 16) \n",
        "        classes torch.Size([200, 13]) \n",
        "        Hook (200, 13, 928, 1, 16)\n",
        "        x (200, 13, 928)\n",
        "        X reshaped (2600, 928)\n",
        "        '''\n",
        "        return classes"
      ],
      "execution_count": null,
      "outputs": []
    },
    {
      "cell_type": "code",
      "metadata": {
        "id": "aePNQD4S7rlg"
      },
      "source": [
        "#network with architectue: linear layer, convolutional layer, primary capsule layer, marker capsule layer\n",
        "class CapsNet(nn.Module):\n",
        "    def __init__(self):\n",
        "        super(CapsNet, self).__init__()\n",
        "        self.fc1 = nn.Linear(2000, 64)\n",
        "        self.dropout1 = nn.Dropout(p=0.5)\n",
        "        self.conv1 = nn.Conv2d(in_channels = 1, out_channels = 256, kernel_size = (1,4), stride = 1)\n",
        "        \n",
        "        self.primaryCaps = ConvCaps2D()\n",
        "        self.digitCaps = Caps1D()\n",
        "        \n",
        "        \n",
        "    def forward(self, x):\n",
        "        x = F.relu(self.fc1(x))\n",
        "        x = F.relu(self.conv1(x))\n",
        "        x = self.primaryCaps(x)\n",
        "        x = self.digitCaps(x)\n",
        "        return x\n",
        "\n",
        "net = CapsNet()"
      ],
      "execution_count": null,
      "outputs": []
    },
    {
      "cell_type": "code",
      "metadata": {
        "id": "VS44sVS27hME"
      },
      "source": [
        "#cross entropy instead of margin loss\n",
        "criterion = nn.CrossEntropyLoss()\n",
        "optimizer = optim.Adam(net.parameters())\n",
        "def evaluate(model, X, Y, batch_size = 50):\n",
        "    results = []\n",
        "    predicted = []\n",
        "    for i in range(len(X)//batch_size):\n",
        "        s = i*batch_size\n",
        "        e = i*batch_size+batch_size\n",
        "        \n",
        "        inputs = Variable(torch.from_numpy(X[s:e]))\n",
        "        pred = net(inputs)\n",
        "        \n",
        "        predicted += list(np.argmax(pred.data.cpu().numpy(), axis = 1))\n",
        "\n",
        "    Y=Y[0:len(predicted)]\n",
        "    acc = sum(Y == predicted)*1.0/(len(Y))  \n",
        "    return acc"
      ],
      "execution_count": null,
      "outputs": []
    },
    {
      "cell_type": "code",
      "metadata": {
        "colab": {
          "base_uri": "https://localhost:8080/"
        },
        "id": "7fe1764c",
        "outputId": "934a6edc-fab8-4653-8cda-c4b798435f29"
      },
      "source": [
        "data=pd.read_csv('data/rna_scaled.csv', index_col=0)\n",
        "data = data.transpose()\n",
        "label=np.genfromtxt('data/cell_type_no_onlyrna.csv',delimiter=',').astype('int64')\n",
        "\n",
        "batch_size=200\n",
        "trn_acc = []\n",
        "tst_acc = []\n",
        "trn_loss =[]\n",
        "tst_loss=[]\n",
        "\n",
        "#train test split\n",
        "X_train, X_test, y_train, y_test = train_test_split(data, label, test_size=0.1)\n",
        "\n",
        "d=X_train.values.reshape(len(X_train),1, 2000, order='F')\n",
        "d1_train=np.expand_dims(d.astype('float32'), 1)\n",
        "\n",
        "indices = np.random.permutation(len(d1_train))\n",
        "d1_train=d1_train[indices]\n",
        "\n",
        "l1_train=y_train[indices]\n",
        "\n",
        "d1=X_test.values.reshape(len(X_test),1, 2000, order='F')\n",
        "d1_test=np.expand_dims(d1.astype('float32'), 1)\n",
        "\n",
        "indices = np.random.permutation(len(d1_test))\n",
        "d1_test=d1_test[indices]\n",
        "\n",
        "l1_test=y_test[indices]\n",
        "\n",
        "loss_trn=[]\n",
        "loss_test=[]"
      ],
      "execution_count": null,
      "outputs": [
        {
          "name": "stdout",
          "output_type": "stream",
          "text": [
            "(790, 1, 1, 2000)\n"
          ]
        }
      ]
    },
    {
      "cell_type": "code",
      "metadata": {
        "colab": {
          "base_uri": "https://localhost:8080/",
          "height": 417
        },
        "id": "543dfb50",
        "outputId": "74354572-0b0a-4b78-bb36-c800f1543fc2"
      },
      "source": [
        "#training\n",
        "for epoch in range(20):  # 500 epochs\n",
        "    print(\"EPOCH \", epoch)\n",
        "    for phase in ['train', 'validation']:\n",
        "        if phase == 'train':\n",
        "            running_loss=0 \n",
        "            for i in range(len(d1_train)//batch_size-1):    ##iteration\n",
        "                #print(i,)\n",
        "                s = i*batch_size\n",
        "                e = i*batch_size+batch_size\n",
        "\n",
        "                inputs = torch.from_numpy(d1_train[s:e])\n",
        "                labels = torch.LongTensor(np.array(l1_train[s:e]))\n",
        "\n",
        "                    # wrap them in Variable\n",
        "                inputs, labels = Variable(inputs), Variable(labels)\n",
        "\n",
        "                    # zero the parameter gradients\n",
        "                optimizer.zero_grad()\n",
        "\n",
        "                    # forward + backward + optimize\n",
        "                outputs = net(inputs)\n",
        "\n",
        "                loss = criterion(outputs, labels)\n",
        "                loss.backward()\n",
        "\n",
        "                optimizer.step()\n",
        "                running_loss += loss.data.item()\n",
        "        #    print(\"Epoch, Loss - {}, {}\".format(i, running_loss))\n",
        "                del inputs, labels\n",
        "                #print('\\n')\n",
        "               # trn_loss.append(running_loss)\n",
        "        else: \n",
        "            r=random.sample(range(1, len(d1_train)), 1000)\n",
        "            trn_acc.append(evaluate(net, d1_train[r], l1_train[r], batch_size = 200)) \n",
        "            tst_acc.append(evaluate(net, d1_test, l1_test, batch_size=200)) \n",
        "            out_train=net(torch.from_numpy(d1_train[r]))\n",
        "            out_test=net(torch.from_numpy(d1_test))\n",
        "            loss_trn = criterion(out_train, torch.LongTensor(np.array(l1_train[r])))\n",
        "            loss_test= criterion(out_test, torch.LongTensor(np.array(l1_test)))\n",
        "            trn_loss.append(loss_trn.data.item())\n",
        "            tst_loss.append(loss_test.data.item())\n",
        "            print(\"train_acc\",trn_acc)\n",
        "            print(\"test_acc\",tst_acc)\n",
        "            print(\"train_loss\",trn_loss)\n",
        "            print(\"test_loss\",tst_loss)"
      ],
      "execution_count": null,
      "outputs": [
        {
          "name": "stdout",
          "output_type": "stream",
          "text": [
            "EPOCH  0\n"
          ]
        },
        {
          "name": "stderr",
          "output_type": "stream",
          "text": [
            "/home/ubuntu/miniconda3/lib/python3.7/site-packages/ipykernel_launcher.py:61: UserWarning: Implicit dimension choice for softmax has been deprecated. Change the call to include dim=X as an argument.\n",
            "/home/ubuntu/miniconda3/lib/python3.7/site-packages/ipykernel_launcher.py:116: UserWarning: Implicit dimension choice for softmax has been deprecated. Change the call to include dim=X as an argument.\n"
          ]
        },
        {
          "name": "stdout",
          "output_type": "stream",
          "text": [
            "train_acc [0.991]\n",
            "test_acc [0.9883333333333333]\n",
            "train_loss [2.460083484649658]\n",
            "test_loss [2.4603941440582275]\n",
            "EPOCH  1\n",
            "train_acc [0.991, 0.992]\n",
            "test_acc [0.9883333333333333, 0.9883333333333333]\n",
            "train_loss [2.460083484649658, 2.4597439765930176]\n",
            "test_loss [2.4603941440582275, 2.4603941440582275]\n"
          ]
        }
      ]
    },
    {
      "cell_type": "code",
      "metadata": {
        "id": "Q2WRe27-vq5i"
      },
      "source": [
        "#save net\n",
        "filename = 'net_no_integration_20epochs.sav'\n",
        "pickle.dump(net, open(filename, 'wb'))"
      ],
      "execution_count": null,
      "outputs": []
    },
    {
      "cell_type": "code",
      "metadata": {
        "colab": {
          "base_uri": "https://localhost:8080/"
        },
        "id": "o-Ef8PQX2X1e",
        "outputId": "14bc6780-8216-41e3-d606-f0b006be63c9"
      },
      "source": [
        "net.eval()"
      ],
      "execution_count": null,
      "outputs": [
        {
          "output_type": "execute_result",
          "data": {
            "text/plain": [
              "CapsNet(\n",
              "  (fc1): Linear(in_features=2000, out_features=64, bias=True)\n",
              "  (dropout1): Dropout(p=0.5, inplace=False)\n",
              "  (conv1): Conv2d(1, 256, kernel_size=(1, 4), stride=(1, 1))\n",
              "  (primaryCaps): ConvCaps2D(\n",
              "    (capsules): ModuleList(\n",
              "      (0): Conv2d(256, 8, kernel_size=(1, 4), stride=(2, 2))\n",
              "      (1): Conv2d(256, 8, kernel_size=(1, 4), stride=(2, 2))\n",
              "      (2): Conv2d(256, 8, kernel_size=(1, 4), stride=(2, 2))\n",
              "      (3): Conv2d(256, 8, kernel_size=(1, 4), stride=(2, 2))\n",
              "      (4): Conv2d(256, 8, kernel_size=(1, 4), stride=(2, 2))\n",
              "      (5): Conv2d(256, 8, kernel_size=(1, 4), stride=(2, 2))\n",
              "      (6): Conv2d(256, 8, kernel_size=(1, 4), stride=(2, 2))\n",
              "      (7): Conv2d(256, 8, kernel_size=(1, 4), stride=(2, 2))\n",
              "      (8): Conv2d(256, 8, kernel_size=(1, 4), stride=(2, 2))\n",
              "      (9): Conv2d(256, 8, kernel_size=(1, 4), stride=(2, 2))\n",
              "      (10): Conv2d(256, 8, kernel_size=(1, 4), stride=(2, 2))\n",
              "      (11): Conv2d(256, 8, kernel_size=(1, 4), stride=(2, 2))\n",
              "      (12): Conv2d(256, 8, kernel_size=(1, 4), stride=(2, 2))\n",
              "      (13): Conv2d(256, 8, kernel_size=(1, 4), stride=(2, 2))\n",
              "      (14): Conv2d(256, 8, kernel_size=(1, 4), stride=(2, 2))\n",
              "      (15): Conv2d(256, 8, kernel_size=(1, 4), stride=(2, 2))\n",
              "      (16): Conv2d(256, 8, kernel_size=(1, 4), stride=(2, 2))\n",
              "      (17): Conv2d(256, 8, kernel_size=(1, 4), stride=(2, 2))\n",
              "      (18): Conv2d(256, 8, kernel_size=(1, 4), stride=(2, 2))\n",
              "      (19): Conv2d(256, 8, kernel_size=(1, 4), stride=(2, 2))\n",
              "      (20): Conv2d(256, 8, kernel_size=(1, 4), stride=(2, 2))\n",
              "      (21): Conv2d(256, 8, kernel_size=(1, 4), stride=(2, 2))\n",
              "      (22): Conv2d(256, 8, kernel_size=(1, 4), stride=(2, 2))\n",
              "      (23): Conv2d(256, 8, kernel_size=(1, 4), stride=(2, 2))\n",
              "      (24): Conv2d(256, 8, kernel_size=(1, 4), stride=(2, 2))\n",
              "      (25): Conv2d(256, 8, kernel_size=(1, 4), stride=(2, 2))\n",
              "      (26): Conv2d(256, 8, kernel_size=(1, 4), stride=(2, 2))\n",
              "      (27): Conv2d(256, 8, kernel_size=(1, 4), stride=(2, 2))\n",
              "      (28): Conv2d(256, 8, kernel_size=(1, 4), stride=(2, 2))\n",
              "      (29): Conv2d(256, 8, kernel_size=(1, 4), stride=(2, 2))\n",
              "      (30): Conv2d(256, 8, kernel_size=(1, 4), stride=(2, 2))\n",
              "      (31): Conv2d(256, 8, kernel_size=(1, 4), stride=(2, 2))\n",
              "    )\n",
              "  )\n",
              "  (digitCaps): Caps1D()\n",
              ")"
            ]
          },
          "metadata": {},
          "execution_count": 3
        }
      ]
    },
    {
      "cell_type": "code",
      "metadata": {
        "id": "b553a89b-f106-4874-a548-09e09a89d4fc",
        "outputId": "ddf10bcd-6ba9-4238-8a86-4d8aebbdd05b"
      },
      "source": [
        "# Disable grad\n",
        "#turn off gradients computation\n",
        "with torch.no_grad():\n",
        "    # Retrieve item\n",
        "    #item = dataset[index]\n",
        "    gene = torch.from_numpy(d1_test)\n",
        "    gene_label = torch.LongTensor(np.array(l1_test))\n",
        "    inputs, labels = Variable(gene), Variable(gene_label)\n",
        "    print(inputs.shape)\n",
        "    \n",
        "    # Generate prediction\n",
        "    prediction = net(inputs)\n",
        "    #print(prediction)\n",
        "    \n",
        "    # Predicted class value using argmax\n",
        "    predicted_class =prediction.argmax(dim=1, keepdim=True)\n"
      ],
      "execution_count": null,
      "outputs": [
        {
          "name": "stdout",
          "output_type": "stream",
          "text": [
            "torch.Size([790, 1, 1, 2000])\n"
          ]
        },
        {
          "name": "stderr",
          "output_type": "stream",
          "text": [
            "/home/ubuntu/miniconda3/lib/python3.7/site-packages/ipykernel_launcher.py:61: UserWarning: Implicit dimension choice for softmax has been deprecated. Change the call to include dim=X as an argument.\n",
            "/home/ubuntu/miniconda3/lib/python3.7/site-packages/ipykernel_launcher.py:116: UserWarning: Implicit dimension choice for softmax has been deprecated. Change the call to include dim=X as an argument.\n"
          ]
        },
        {
          "name": "stdout",
          "output_type": "stream",
          "text": [
            "Confusion matrix:\n",
            "[[ 29   0   0   0 ...   0   0   0   0]\n",
            " [  0 236   0   0 ...   0   0   0   0]\n",
            " [  0   0  27   0 ...   0   1   0   0]\n",
            " [  0   0   0  13 ...   0   0   0   0]\n",
            " ...\n",
            " [  0   0   0   0 ... 114   0   0   0]\n",
            " [  0   1   0   0 ...   0 110   0   0]\n",
            " [  0   0   0   0 ...   0   0   3   0]\n",
            " [  0   2   0   0 ...   0   0   0  23]]\n",
            "F1 score: 0.984810\n",
            "Accuracy score: 0.984810\n"
          ]
        },
        {
          "name": "stderr",
          "output_type": "stream",
          "text": [
            "/home/ubuntu/miniconda3/lib/python3.7/site-packages/ipykernel_launcher.py:32: DeprecationWarning: `np.float` is a deprecated alias for the builtin `float`. To silence this warning, use `float` by itself. Doing this will not modify any behavior and is safe. If you specifically wanted the numpy scalar type, use `np.float64` here.\n",
            "Deprecated in NumPy 1.20; for more details and guidance: https://numpy.org/devdocs/release/1.20.0-notes.html#deprecations\n"
          ]
        },
        {
          "data": {
            "image/png": "[encoded data removed]",
            "text/plain": [
              "<Figure size 432x288 with 2 Axes>"
            ]
          },
          "metadata": {
            "needs_background": "light"
          },
          "output_type": "display_data"
        }
      ]
    },
    {
      "cell_type": "code",
      "metadata": {
        "colab": {
          "base_uri": "https://localhost:8080/"
        },
        "id": "0Oc-rXfnvNUN",
        "outputId": "bb3f7589-874b-46a9-fd32-0cdfe42f3d01"
      },
      "source": [
        "from sklearn.metrics import f1_score\n",
        "from sklearn.metrics import accuracy_score\n",
        "from sklearn.metrics import confusion_matrix\n",
        "from sklearn.metrics import roc_auc_score\n",
        "print('Confusion matrix:')\n",
        "print(confusion_matrix(labels, predicted_class))\n",
        "print('F1 score: %f' % f1_score(labels, predicted_class, average='micro'))\n",
        "print('Accuracy score: %f' % accuracy_score(labels, predicted_class))"
      ],
      "execution_count": null,
      "outputs": [
        {
          "name": "stdout",
          "output_type": "stream",
          "text": [
            "Confusion matrix:\n",
            "[[ 37   0   0   0   0   0   0   0   0   0   0   0   0]\n",
            " [  0 231   0   0   0   0   0   0   0   0   0   0   2]\n",
            " [  0   2  19   0   0   0   0   0   0   0   0   0   0]\n",
            " [  0   0   0   9   0   0   0   0   0   0   0   0   0]\n",
            " [  0   0   0   0  20   0   0   0   0   0   0   0   0]\n",
            " [  0   1   0   0   0   4   0   0   0   0   0   0   0]\n",
            " [  0   0   0   0   0   0   4   0   0   0   0   0   0]\n",
            " [  0   0   0   0   1   0   0 172   0  17   0   0   0]\n",
            " [  0   1   0   0   0   0   0   0  11   1   2   0   0]\n",
            " [  0   0   0   0   0   0   0  15   0 112   0   0   0]\n",
            " [  0   0   0   0   0   0   0   0   0   0 101   0   0]\n",
            " [  0   0   0   0   0   0   0   0   0   0   0   3   0]\n",
            " [  0   0   0   0   0   0   0   0   0   0   0   0  25]]\n",
            "F1 score: 0.946835\n",
            "Accuracy score: 0.946835\n"
          ]
        }
      ]
    },
    {
      "cell_type": "code",
      "metadata": {
        "colab": {
          "base_uri": "https://localhost:8080/",
          "height": 265
        },
        "id": "cPENE3AfvNUP",
        "outputId": "b759fd82-bbbc-473d-9999-fcf4498f4b36"
      },
      "source": [
        "import seaborn as sns\n",
        "ax = sns.heatmap(confusion_matrix(labels, predicted_class), cmap=\"YlGnBu\")\n",
        "plt.xlabel(\"Predicted class\")\n",
        "plt.ylabel(\"True class\")\n",
        "ax.set_title(f'Confusion Matrix')\n",
        "plt.show()\n"
      ],
      "execution_count": null,
      "outputs": [
        {
          "data": {
            "image/png": "[encoded data removed]",
            "text/plain": [
              "<Figure size 432x288 with 2 Axes>"
            ]
          },
          "metadata": {},
          "output_type": "display_data"
        }
      ]
    }
  ]
}